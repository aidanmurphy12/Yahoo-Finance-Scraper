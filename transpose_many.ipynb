{
 "cells": [
  {
   "cell_type": "code",
   "execution_count": 1,
   "metadata": {},
   "outputs": [],
   "source": [
    "import pandas as pd"
   ]
  },
  {
   "cell_type": "code",
   "execution_count": 2,
   "metadata": {},
   "outputs": [],
   "source": [
    "def transpose_many(files, output_file):\n",
    "    transposed = []\n",
    "    \n",
    "    for file in files:\n",
    "        df = pd.read_excel(file)\n",
    "        df_transposed = df.set_index(\"Data\").T\n",
    "        transposed.append(df_transposed)\n",
    "\n",
    "    final_df = pd.concat(transposed, ignore_index=True)\n",
    "    final_df.to_excel(output_file, index=False)\n",
    "\n",
    "    return final_df"
   ]
  },
  {
   "cell_type": "code",
   "execution_count": null,
   "metadata": {},
   "outputs": [],
   "source": [
    "files = [\"nvda.xlsx\", \"aapl.xlsx\", \"cron.xlsx\", \"amc.xlsx\"]\n",
    "output_file = \"combined_transposed_stocks.xlsx\"\n",
    "transpose_many(files, output_file)"
   ]
  }
 ],
 "metadata": {
  "kernelspec": {
   "display_name": "base",
   "language": "python",
   "name": "python3"
  },
  "language_info": {
   "codemirror_mode": {
    "name": "ipython",
    "version": 3
   },
   "file_extension": ".py",
   "mimetype": "text/x-python",
   "name": "python",
   "nbconvert_exporter": "python",
   "pygments_lexer": "ipython3",
   "version": "3.11.4"
  }
 },
 "nbformat": 4,
 "nbformat_minor": 2
}
